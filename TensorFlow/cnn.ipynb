{
  "nbformat": 4,
  "nbformat_minor": 0,
  "metadata": {
    "colab": {
      "name": "Exercise 3 - Question.ipynb",
      "provenance": [],
      "collapsed_sections": [],
      "toc_visible": true
    },
    "kernelspec": {
      "display_name": "Python 3",
      "name": "python3"
    }
  },
  "cells": [
    {
      "cell_type": "markdown",
      "metadata": {
        "id": "iQjHqsmTAVLU"
      },
      "source": [
        "## Exercise 3\n",
        "In the videos you looked at how you would improve Fashion MNIST using Convolutions. For your exercise see if you can improve MNIST to 99.8% accuracy or more using only a single convolutional layer and a single MaxPooling 2D. You should stop training once the accuracy goes above this amount. It should happen in less than 20 epochs, so it's ok to hard code the number of epochs for training, but your training must end once it hits the above metric. If it doesn't, then you'll need to redesign your layers.\n",
        "\n",
        "I've started the code for you -- you need to finish it!\n",
        "\n",
        "When 99.8% accuracy has been hit, you should print out the string \"Reached 99.8% accuracy so cancelling training!\"\n"
      ]
    },
    {
      "cell_type": "code",
      "metadata": {
        "id": "sfQRyaJWAIdg",
        "outputId": "1e2173c6-1455-4a4e-d790-63134dfb862d",
        "colab": {
          "base_uri": "https://localhost:8080/"
        }
      },
      "source": [
        "import tensorflow as tf\n",
        "\n",
        "class Callback(tf.keras.callbacks.Callback):\n",
        "  def on_epoch_end(self, epoch, logs={}):\n",
        "    if(logs.get('accuracy') > 0.998):\n",
        "      print(\"\\nReached 99.8% accuracy so cancelling training!\")\n",
        "      self.model.stop_training = True\n",
        "\n",
        "mnist = tf.keras.datasets.mnist\n",
        "(training_images, training_labels), (test_images, test_labels) = mnist.load_data()\n",
        "\n",
        "training_images = training_images/255.0\n",
        "test_images = test_images/255.0\n",
        "training_images = training_images.reshape(60000, 28, 28, 1)\n",
        "test_images = test_images.reshape(10000, 28, 28, 1)\n",
        "\n",
        "callback = Callback()\n",
        "\n",
        "model = tf.keras.models.Sequential([\n",
        "  tf.keras.layers.Conv2D(64, (3,3), activation='relu', input_shape=(28, 28, 1)),\n",
        "  tf.keras.layers.MaxPooling2D(2, 2),\n",
        "  tf.keras.layers.Flatten(),\n",
        "  tf.keras.layers.Dense(128, activation='relu'),\n",
        "  tf.keras.layers.Dense(10, activation='softmax')\n",
        "])\n",
        "\n",
        "model.compile(optimizer='adam', loss='sparse_categorical_crossentropy', metrics=['accuracy'])\n",
        "# model fitting\n",
        "history = model.fit(training_images, training_labels, epochs = 20, callbacks=[callback])\n",
        "\n",
        "print(history.epoch)\n",
        "print(history.history['accuracy'][-1])\n"
      ],
      "execution_count": 2,
      "outputs": [
        {
          "output_type": "stream",
          "text": [
            "Epoch 1/20\n",
            "1875/1875 [==============================] - 54s 29ms/step - loss: 0.1370 - accuracy: 0.9588\n",
            "Epoch 2/20\n",
            "1875/1875 [==============================] - 54s 29ms/step - loss: 0.0465 - accuracy: 0.9855\n",
            "Epoch 3/20\n",
            "1875/1875 [==============================] - 54s 29ms/step - loss: 0.0289 - accuracy: 0.9911\n",
            "Epoch 4/20\n",
            "1875/1875 [==============================] - 53s 29ms/step - loss: 0.0193 - accuracy: 0.9937\n",
            "Epoch 5/20\n",
            "1875/1875 [==============================] - 54s 29ms/step - loss: 0.0126 - accuracy: 0.9964\n",
            "Epoch 6/20\n",
            "1875/1875 [==============================] - 54s 29ms/step - loss: 0.0098 - accuracy: 0.9967\n",
            "Epoch 7/20\n",
            "1875/1875 [==============================] - 54s 29ms/step - loss: 0.0080 - accuracy: 0.9971\n",
            "Epoch 8/20\n",
            "1875/1875 [==============================] - 53s 28ms/step - loss: 0.0066 - accuracy: 0.9977\n",
            "Epoch 9/20\n",
            "1874/1875 [============================>.] - ETA: 0s - loss: 0.0050 - accuracy: 0.9984\n",
            "Reached 99.8% accuracy so cancelling training!\n",
            "1875/1875 [==============================] - 53s 28ms/step - loss: 0.0050 - accuracy: 0.9984\n",
            "[0, 1, 2, 3, 4, 5, 6, 7, 8]\n",
            "0.9983999729156494\n"
          ],
          "name": "stdout"
        }
      ]
    },
    {
      "cell_type": "code",
      "metadata": {
        "id": "FgpB4HoqXDsG"
      },
      "source": [
        ""
      ],
      "execution_count": null,
      "outputs": []
    }
  ]
}